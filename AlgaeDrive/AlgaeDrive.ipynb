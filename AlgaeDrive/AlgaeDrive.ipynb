{
  "nbformat": 4,
  "nbformat_minor": 0,
  "metadata": {
    "colab": {
      "provenance": []
    },
    "kernelspec": {
      "name": "python3",
      "display_name": "Python 3"
    },
    "language_info": {
      "name": "python"
    }
  },
  "cells": [
    {
      "cell_type": "markdown",
      "source": [
        "Use continuous geographic, hydrological, climate, and meteorological datasets as input to train neural network(NN) and random forest(RF) models, to determine the major environmentl drivers of algae growth in lakes.\n",
        "Use Google Cloud Platform (GCP) to extract relative data from its [Earth Engine Dataset](https://developers.google.com/earth-engine/datasets) and run further NN models"
      ],
      "metadata": {
        "id": "dqS_PlyedNxv"
      }
    },
    {
      "cell_type": "markdown",
      "source": [
        "## 1. Climate data preparation from Google Earth Engine"
      ],
      "metadata": {
        "id": "XNAX5x7a5DT2"
      }
    },
    {
      "cell_type": "code",
      "source": [
        "##connect to google earth engine\n",
        "import ee\n",
        "service_account = '429406912917-compute@developer.gserviceaccount.com'\n",
        "credentials = ee.ServiceAccountCredentials(service_account, 'credentials.json')\n",
        "ee.Initialize(credentials)"
      ],
      "metadata": {
        "id": "enIjQIHAcw2S"
      },
      "execution_count": 1,
      "outputs": []
    },
    {
      "cell_type": "code",
      "source": [
        "##prepare a mapping tool\n",
        "import folium\n",
        "def add_ee_layer(self, ee_image_object, vis_params, name):\n",
        "  map_id_dict = ee.Image(ee_image_object).getMapId(vis_params)\n",
        "  folium.raster_layers.TileLayer(\n",
        "      tiles=map_id_dict['tile_fetcher'].url_format,\n",
        "      attr='Map Data &copy; <a href=\"https://earthengine.google.com/\">Google Earth Engine</a>',\n",
        "      name=name,\n",
        "      overlay=True,\n",
        "      control=True\n",
        "  ).add_to(self)\n",
        "\n",
        "folium.Map.add_ee_layer = add_ee_layer"
      ],
      "metadata": {
        "id": "84j_IV0TxVh8"
      },
      "execution_count": 86,
      "outputs": []
    },
    {
      "cell_type": "code",
      "source": [
        "### extract climate data from ECMWF ERA 5\n",
        "##details of dataset: https://developers.google.com/earth-engine/datasets/catalog/ECMWF_ERA5_DAILY#description\n",
        "## https://cds.climate.copernicus.eu/cdsapp#!/software/app-era5-explorer?tab=overview\n",
        "sensor='ECMWF/ERA5/DAILY'\n",
        "start_date,end_date='2020-06-01','2020-07-01'\n",
        "aoi =ee.Geometry.Rectangle(-95.4, 48.88,-93.75, 49.77)\n",
        "era5 = ee.ImageCollection(sensor) \\\n",
        "       .filterBounds(aoi)  \\\n",
        "       .filterDate(ee.Date(start_date), ee.Date(end_date))\n",
        "era5_2mt = era5.select('mean_2m_air_temperature')\n",
        "print('Number of images', era5_2mt.size().getInfo())"
      ],
      "metadata": {
        "colab": {
          "base_uri": "https://localhost:8080/"
        },
        "id": "IpZ6vJuKdtA0",
        "outputId": "451a757b-7acf-4f21-8b35-27436bb271cc"
      },
      "execution_count": 88,
      "outputs": [
        {
          "output_type": "stream",
          "name": "stdout",
          "text": [
            "Number of images 30\n"
          ]
        }
      ]
    },
    {
      "cell_type": "code",
      "source": [
        "##preview the average imagery\n",
        "avgT=era5_2mt.mosaic().add(-273.15)  #kelvin to Celsius  c=k-273.15   #.clip(aoi)\n",
        "##result = ee.Image.expression('(slope * aspect) / 255', {'slope': slope,'aspect': aspect})\n",
        "print(\"Global temperature Jun 2020 monthly avg (C)\")\n",
        "\n",
        "## #show interactive map\n",
        "## vis_params = {\n",
        "##   'min': -30,\n",
        "##   'max': 40,\n",
        "##   'palette': ['blue', 'green', 'red']\n",
        "## }\n",
        "## center = aoi.centroid()\n",
        "## map = folium.Map(location=[center.coordinates().get(1).getInfo(),center.coordinates().get(0).getInfo()], zoom_start=5)\n",
        "## #map = folium.Map(location=[48.88,-95.4], zoom_start=10)\n",
        "## # Add the image layer to the map and display it.\n",
        "## map.add_ee_layer(avgT, vis_params, 'Avg Temp (c)')\n",
        "## map.add_child(folium.LayerControl())\n",
        "## display(map)\n",
        "\n",
        "##display a raster imagery\n",
        "from IPython.display import Image\n",
        "Image(url =avgT.updateMask(avgT.gt(-10)).getThumbURL({'min':0, 'max': 40, 'dimensions': 512,\n",
        "                'palette': ['blue', 'green', 'red']}))"
      ],
      "metadata": {
        "colab": {
          "base_uri": "https://localhost:8080/",
          "height": 295
        },
        "id": "uG6srK8id4oh",
        "outputId": "ab4f2660-6e52-4fef-902c-3ac99ced6ae9"
      },
      "execution_count": 122,
      "outputs": [
        {
          "output_type": "stream",
          "name": "stdout",
          "text": [
            "Global temperature Jun 2020 monthly avg (C)\n"
          ]
        },
        {
          "output_type": "execute_result",
          "data": {
            "text/html": [
              "<img src=\"https://earthengine.googleapis.com/v1alpha/projects/earthengine-legacy/thumbnails/e8a403da6b212d5223eae804e6cb78cb-b667811af9a3c8e5d53524687a7e0588:getPixels\"/>"
            ],
            "text/plain": [
              "<IPython.core.display.Image object>"
            ]
          },
          "metadata": {},
          "execution_count": 122
        }
      ]
    },
    {
      "cell_type": "code",
      "source": [
        "## export to a test imagery to Google Cloud Platform (GCP) buckets \n",
        "img=era5_2mt.first()\n",
        "export_config = {\n",
        "    'image': img,\n",
        "    'region': aoi,\n",
        "    'crs': 'EPSG:4326',\n",
        "    'scale': 100000,    \n",
        "    'fileFormat': 'GeoTIFF',\n",
        "    'fileNamePrefix': 'ERA5_2mt',\n",
        "    'bucket':   'AlgaeDrive',  \n",
        "    'maxPixels':1e10,\n",
        "    'description': 'ERA5 climate data download: ER5 mean_2m_air_temperature'\n",
        "}\n",
        "task=ee.batch.Export.image.toCloudStorage(**export_config)\n",
        "#task=ee.batch.Export.image.toDrive(**export_config)\n",
        "task.start()\n",
        "import time\n",
        "time.sleep(10)\n",
        "print(task.status())"
      ],
      "metadata": {
        "colab": {
          "base_uri": "https://localhost:8080/"
        },
        "id": "Hax0WZmBeOgP",
        "outputId": "f32746fb-1d12-4c5a-e92f-afc03fcf4391"
      },
      "execution_count": 6,
      "outputs": [
        {
          "output_type": "stream",
          "name": "stdout",
          "text": [
            "{'state': 'READY', 'description': 'ERA5 climate data download: ER5 mean_2m_air_temperature', 'creation_timestamp_ms': 1680028182464, 'update_timestamp_ms': 1680028182464, 'start_timestamp_ms': 0, 'task_type': 'EXPORT_IMAGE', 'id': 'UQFQZPCG5XE5SKJFP2QS4TKZ', 'name': 'projects/earthengine-legacy/operations/UQFQZPCG5XE5SKJFP2QS4TKZ'}\n"
          ]
        }
      ]
    },
    {
      "cell_type": "code",
      "source": [
        "##iterate all the image to export to GCP bucket\n",
        "def export_ERA5_to_GCPbucket(era5_dataset,aoi=ee.Geometry.Rectangle(-95.4, 48.88,-93.75, 49.77), bucket_name='AlgaeDrive',crs_epsg=4326,scale=1000,prdct_key=None):\n",
        "  img_list = era5_dataset.toList(era5_dataset.size())\n",
        "  nImages = img_list.size().getInfo()\n",
        "  for i in range(nImages):\n",
        "    img=ee.Image(img_list.get(i)).clip(aoi)\n",
        "    product_id=img.getInfo()['id'].replace('/','_')\n",
        "    export_config = {\n",
        "      'image': img.float(),\n",
        "      'region': aoi,\n",
        "      'crs': f'EPSG:{crs_epsg}',\n",
        "      'scale': scale,    \n",
        "      'fileFormat': 'GeoTIFF',\n",
        "      'fileNamePrefix': f'ERA5/{product_id}_{prdct_key}',\n",
        "      'bucket':   bucket_name,  \n",
        "      'maxPixels':1e10,\n",
        "      'description': f'ERA5 climate data download: ER5 product: {prdct_key}'\n",
        "    }\n",
        "    task=ee.batch.Export.image.toCloudStorage(**export_config)\n",
        "    task.start()"
      ],
      "metadata": {
        "id": "MSz8rVCRebWb"
      },
      "execution_count": 137,
      "outputs": []
    },
    {
      "cell_type": "code",
      "source": [
        "##download all the related products\n",
        "dict_prdct={\n",
        "'mean_2m_air_temperature': 'Daily mean 2m air temperature',\n",
        "'total_precipitation': 'Daily total precipitation sums',\n",
        "'dewpoint_2m_temperature': \"Daily mean 2m dewpoint temperature\",\n",
        "'mean_sea_level_pressure':\"Daily mean sea-level pressure\",\n",
        "'surface_pressure': \"Daily mean surface pressure\",\n",
        "'u_component_of_wind_10m': \"Daily mean 10m u-component of wind\",\n",
        "}\n",
        "for prd in dict_prdct:\n",
        "    era5_dat = era5.select(prd)\n",
        "    print('Number of images', era5_dat.size().getInfo())\n",
        "    export_ERA5_to_GCPbucket(era5_dat,aoi=aoi, bucket_name='AlgaeDrive',crs_epsg=32615,scale=1000,prdct_key=prd)"
      ],
      "metadata": {
        "id": "mzLLURWf5WPk",
        "outputId": "bfd6a265-9b0e-4210-ef21-682b5c465d13",
        "colab": {
          "base_uri": "https://localhost:8080/"
        }
      },
      "execution_count": 136,
      "outputs": [
        {
          "output_type": "stream",
          "name": "stdout",
          "text": [
            "Number of images 30\n",
            "Number of images 30\n",
            "Number of images 30\n",
            "Number of images 30\n",
            "Number of images 30\n",
            "Number of images 30\n"
          ]
        }
      ]
    },
    {
      "cell_type": "markdown",
      "source": [
        "## 2. download satellite imagery of the same dates/AOI"
      ],
      "metadata": {
        "id": "qNBV8xLh5VMO"
      }
    },
    {
      "cell_type": "code",
      "source": [
        "##download satellite imagery to bucket\n",
        "def export_OLCI_to_GCPbucket(dataset,aoi=None, bucket_name='AlgaeDrive',crs_epsg=4326,scale=300):\n",
        "  img_list = dataset.toList(dataset.size())\n",
        "  nImages = img_list.size().getInfo()\n",
        "  for i in range(nImages):\n",
        "    img=ee.Image(img_list.get(i)).clip(aoi)\n",
        "    product_id=img.get('PRODUCT_ID').getInfo()\n",
        "    export_config = {\n",
        "      'image': img.float(),\n",
        "      'region': aoi,\n",
        "      'crs': f'EPSG:{crs_epsg}',\n",
        "      'scale': scale,    #default in 300 pixels of OLCI\n",
        "      'fileFormat': 'GeoTIFF',\n",
        "      'fileNamePrefix': f'OLCI/{product_id}',\n",
        "      'bucket':   bucket_name,  \n",
        "      'maxPixels':1e10,\n",
        "      'description': 'ESA OLCI ocean color satellite imagery'\n",
        "    }\n",
        "    task=ee.batch.Export.image.toCloudStorage(**export_config)\n",
        "    task.start()\n",
        "\n",
        "crs_epsg=32615  #the epsg code for projection\n",
        "start_date,end_date='2020-06-01','2020-07-01'\n",
        "aoi =ee.Geometry.Rectangle(-95.4, 48.88,-93.75, 49.77)\n",
        "sensor='COPERNICUS/S3/OLCI'\n",
        "imgs=ee.ImageCollection(sensor) \\\n",
        "       .filterBounds(aoi)  \\\n",
        "       .filterDate(ee.Date('2022-09-01'), ee.Date('2022-09-03'))\n",
        "export_OLCI_to_GCPbucket(imgs,aoi=aoi, bucket_name='AlgaeDrive',crs_epsg=4326,scale=300)"
      ],
      "metadata": {
        "id": "wKI3jYyS84pn"
      },
      "execution_count": null,
      "outputs": []
    }
  ]
}