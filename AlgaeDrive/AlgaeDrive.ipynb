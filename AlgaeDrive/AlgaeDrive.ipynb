{
  "nbformat": 4,
  "nbformat_minor": 0,
  "metadata": {
    "colab": {
      "provenance": []
    },
    "kernelspec": {
      "name": "python3",
      "display_name": "Python 3"
    },
    "language_info": {
      "name": "python"
    }
  },
  "cells": [
    {
      "cell_type": "markdown",
      "source": [
        "Use continuous geographic, hydrological, climate, and meteorological datasets as input to train neural network(NN) and random forest(RF) models, to determine the major environmentl drivers of algae growth in lakes.\n",
        "Use Google Cloud Platform (GCP) to extract relative data from its Earth Engine Dataset and run further NN models"
      ],
      "metadata": {
        "id": "dqS_PlyedNxv"
      }
    },
    {
      "cell_type": "code",
      "source": [
        "import ee\n",
        "service_account = '429406912917-compute@developer.gserviceaccount.com'\n",
        "credentials = ee.ServiceAccountCredentials(service_account, 'credentials.json')\n",
        "ee.Initialize(credentials)"
      ],
      "metadata": {
        "id": "enIjQIHAcw2S"
      },
      "execution_count": 1,
      "outputs": []
    },
    {
      "cell_type": "code",
      "source": [
        "### extract climate data from ERA 5\n",
        "sensor='ECMWF/ERA5/DAILY'\n",
        "start_date,end_date='2016-09-01','2022-10-01'\n",
        "aoi =ee.Geometry.Rectangle(-95.4, 48.88,-93.75, 49.77)\n",
        "\n",
        "era5 = ee.ImageCollection(sensor) \\\n",
        "       .filterBounds(aoi)  \\\n",
        "       .filterDate(ee.Date(start_date), ee.Date(end_date))\n",
        "era5_2mt = era5.select('mean_2m_air_temperature')"
      ],
      "metadata": {
        "id": "IpZ6vJuKdtA0"
      },
      "execution_count": 2,
      "outputs": []
    },
    {
      "cell_type": "code",
      "source": [
        "##preview some imagery\n",
        "img=era5_2mt.first()\n",
        "img.getInfo()"
      ],
      "metadata": {
        "id": "uG6srK8id4oh",
        "outputId": "0e4adc45-24fb-43db-df47-98b27a141bc3",
        "colab": {
          "base_uri": "https://localhost:8080/"
        }
      },
      "execution_count": 5,
      "outputs": [
        {
          "output_type": "execute_result",
          "data": {
            "text/plain": [
              "{'type': 'Image',\n",
              " 'bands': [{'id': 'mean_2m_air_temperature',\n",
              "   'data_type': {'type': 'PixelType', 'precision': 'float'},\n",
              "   'dimensions': [1440, 721],\n",
              "   'crs': 'EPSG:4326',\n",
              "   'crs_transform': [0.25, 0, -180, 0, -0.25, 90]}],\n",
              " 'version': 1578495016371452,\n",
              " 'id': 'ECMWF/ERA5/DAILY/20160901',\n",
              " 'properties': {'system:time_start': 1472688000000,\n",
              "  'month': 9,\n",
              "  'year': 2016,\n",
              "  'system:footprint': {'type': 'LinearRing',\n",
              "   'coordinates': [[-180, -90],\n",
              "    [180, -90],\n",
              "    [180, 90],\n",
              "    [-180, 90],\n",
              "    [-180, -90]]},\n",
              "  'system:time_end': 1472774400000,\n",
              "  'system:asset_size': 36675608,\n",
              "  'day': 1,\n",
              "  'system:index': '20160901'}}"
            ]
          },
          "metadata": {},
          "execution_count": 5
        }
      ]
    },
    {
      "cell_type": "code",
      "source": [
        "## export to imagery to Google Cloud Platform (GCP) buckets \n",
        "export_config = {\n",
        "    'image': img,\n",
        "    'region': aoi,\n",
        "    'crs': 'EPSG:4326',\n",
        "    'scale': 100000,    \n",
        "    'fileFormat': 'GeoTIFF',\n",
        "    'fileNamePrefix': 'ERA5_2mt',\n",
        "    'bucket':   'AlgaeDrive',  \n",
        "    'maxPixels':1e10,\n",
        "    'description': 'ERA5 climate data download: ER5 mean_2m_air_temperature'\n",
        "}\n",
        "task=ee.batch.Export.image.toCloudStorage(**export_config)\n",
        "#task=ee.batch.Export.image.toDrive(**export_config)\n",
        "task.start()\n",
        "import time\n",
        "time.sleep(10)\n",
        "print(task.status())"
      ],
      "metadata": {
        "id": "Hax0WZmBeOgP",
        "outputId": "f32746fb-1d12-4c5a-e92f-afc03fcf4391",
        "colab": {
          "base_uri": "https://localhost:8080/"
        }
      },
      "execution_count": 6,
      "outputs": [
        {
          "output_type": "stream",
          "name": "stdout",
          "text": [
            "{'state': 'READY', 'description': 'ERA5 climate data download: ER5 mean_2m_air_temperature', 'creation_timestamp_ms': 1680028182464, 'update_timestamp_ms': 1680028182464, 'start_timestamp_ms': 0, 'task_type': 'EXPORT_IMAGE', 'id': 'UQFQZPCG5XE5SKJFP2QS4TKZ', 'name': 'projects/earthengine-legacy/operations/UQFQZPCG5XE5SKJFP2QS4TKZ'}\n"
          ]
        }
      ]
    },
    {
      "cell_type": "code",
      "source": [
        "##iterate all the image to export\n",
        "img_list = era5_2mt.toList(era5_2mt.size())\n",
        "nImages = img_list.size().getInfo()\n",
        "for i in range(nImages):\n",
        "\timg=ee.Image(img_list.get(i)).clip(aoi)\n",
        "\tproduct_id=img.get('PRODUCT_ID').getInfo()\n",
        "\texport_config = {\n",
        "\t\t'image': img.float(),\n",
        "\t\t'region': aoi_clip,\n",
        "\t\t'crs': f'EPSG:{crs_epsg}',\n",
        "\t\t'scale': 300,    #default in 300 pixels of OLCI\n",
        "\t\t'fileFormat': 'GeoTIFF',\n",
        "\t\t'fileNamePrefix': f'mali_test/{product_id}',\n",
        "\t\t'bucket':   f'mali_test',  \n",
        "\t\t'maxPixels':1e10,\n",
        "\t\t'description': 'test'\n",
        "\t}"
      ],
      "metadata": {
        "id": "MSz8rVCRebWb"
      },
      "execution_count": null,
      "outputs": []
    },
    {
      "cell_type": "code",
      "source": [
        "img = era5_2mt.first().clip(aoi)\n",
        "#print(img.get('bands').getInfo())\n",
        "#img.get('id').getInfo()\n",
        "img.getInfo()"
      ],
      "metadata": {
        "id": "rKvjMngAfYIT",
        "outputId": "9ee5c5dc-b569-49ee-f32d-a2ca2d6a5ea0",
        "colab": {
          "base_uri": "https://localhost:8080/"
        }
      },
      "execution_count": 36,
      "outputs": [
        {
          "output_type": "execute_result",
          "data": {
            "text/plain": [
              "{'type': 'Image',\n",
              " 'bands': [{'id': 'mean_2m_air_temperature',\n",
              "   'data_type': {'type': 'PixelType', 'precision': 'float'},\n",
              "   'dimensions': [9, 5],\n",
              "   'origin': [337, 160],\n",
              "   'crs': 'EPSG:4326',\n",
              "   'crs_transform': [0.25, 0, -180, 0, -0.25, 90]}],\n",
              " 'version': 1578495016371452,\n",
              " 'id': 'ECMWF/ERA5/DAILY/20160901',\n",
              " 'properties': {'system:footprint': {'type': 'Polygon',\n",
              "   'coordinates': [[[-95.4, 48.88],\n",
              "     [-93.75, 48.88],\n",
              "     [-93.75, 49.77],\n",
              "     [-95.4, 49.77],\n",
              "     [-95.4, 48.88]]]},\n",
              "  'system:time_start': 1472688000000,\n",
              "  'month': 9,\n",
              "  'year': 2016,\n",
              "  'system:time_end': 1472774400000,\n",
              "  'system:asset_size': 36675608,\n",
              "  'day': 1,\n",
              "  'system:index': '20160901'}}"
            ]
          },
          "metadata": {},
          "execution_count": 36
        }
      ]
    },
    {
      "cell_type": "code",
      "source": [
        "img_list = era5_2mt.toList(era5_2mt.size())\n",
        "nImages = img_list.size().getInfo()\n",
        "for i in range(20):\n",
        "  img = ee.Image(img_list.get(i))\n",
        "  #img=ee.Image(era5_2mt.get(0)).clip(aoi)\n",
        "  print(img.get('PRODUCT_ID').getInfo())"
      ],
      "metadata": {
        "id": "4DJSzZ_tf504",
        "outputId": "69133e28-88f8-4d05-d392-2a3c7caf55c8",
        "colab": {
          "base_uri": "https://localhost:8080/"
        }
      },
      "execution_count": 19,
      "outputs": [
        {
          "output_type": "stream",
          "name": "stdout",
          "text": [
            "None\n",
            "None\n",
            "None\n",
            "None\n",
            "None\n",
            "None\n",
            "None\n",
            "None\n",
            "None\n",
            "None\n",
            "None\n",
            "None\n",
            "None\n",
            "None\n",
            "None\n",
            "None\n",
            "None\n",
            "None\n",
            "None\n",
            "None\n"
          ]
        }
      ]
    }
  ]
}