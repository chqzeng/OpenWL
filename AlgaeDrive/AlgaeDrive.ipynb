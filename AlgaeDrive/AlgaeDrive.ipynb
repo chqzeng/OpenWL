{
  "nbformat": 4,
  "nbformat_minor": 0,
  "metadata": {
    "colab": {
      "provenance": []
    },
    "kernelspec": {
      "name": "python3",
      "display_name": "Python 3"
    },
    "language_info": {
      "name": "python"
    }
  },
  "cells": [
    {
      "cell_type": "markdown",
      "source": [
        "test line"
      ],
      "metadata": {
        "id": "5gwxCHt_cxDS"
      }
    },
    {
      "cell_type": "code",
      "source": [
        "print(\"Hello World!\")"
      ],
      "metadata": {
        "id": "enIjQIHAcw2S"
      },
      "execution_count": null,
      "outputs": []
    }
  ]
}
