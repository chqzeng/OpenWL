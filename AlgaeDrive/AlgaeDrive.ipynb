{
  "nbformat": 4,
  "nbformat_minor": 0,
  "metadata": {
    "colab": {
      "provenance": []
    },
    "kernelspec": {
      "name": "python3",
      "display_name": "Python 3"
    },
    "language_info": {
      "name": "python"
    }
  },
  "cells": [
    {
      "cell_type": "markdown",
      "source": [
        "Use continuous geographic, hydrological, climate, and meteorological datasets as input to train neural network(NN) and random forest(RF) models, to determine the major environmentl drivers of algae growth in lakes.\n",
        "Use Google Cloud Platform (GCP) to extract relative data from its Earth Engine Dataset and run further NN models"
      ],
      "metadata": {
        "id": "dqS_PlyedNxv"
      }
    },
    {
      "cell_type": "code",
      "source": [
        "##connect to google earth engine\n",
        "import ee\n",
        "service_account = '429406912917-compute@developer.gserviceaccount.com'\n",
        "credentials = ee.ServiceAccountCredentials(service_account, 'credentials.json')\n",
        "ee.Initialize(credentials)"
      ],
      "metadata": {
        "id": "enIjQIHAcw2S"
      },
      "execution_count": 1,
      "outputs": []
    },
    {
      "cell_type": "code",
      "source": [
        "### extract climate data from ECMWF ERA 5\n",
        "##details of dataset: https://developers.google.com/earth-engine/datasets/catalog/ECMWF_ERA5_DAILY#description\n",
        "## https://cds.climate.copernicus.eu/cdsapp#!/software/app-era5-explorer?tab=overview\n",
        "sensor='ECMWF/ERA5/DAILY'\n",
        "start_date,end_date='2020-06-01','2020-07-01'\n",
        "aoi =ee.Geometry.Rectangle(-95.4, 48.88,-93.75, 49.77)\n",
        "era5 = ee.ImageCollection(sensor) \\\n",
        "       .filterBounds(aoi)  \\\n",
        "       .filterDate(ee.Date(start_date), ee.Date(end_date))\n",
        "era5_2mt = era5.select('mean_2m_air_temperature')\n",
        "print('Number of images', era5_2mt.size().getInfo())"
      ],
      "metadata": {
        "colab": {
          "base_uri": "https://localhost:8080/"
        },
        "id": "IpZ6vJuKdtA0",
        "outputId": "b6c9166e-3454-4ea1-a4bd-11e22923ee91"
      },
      "execution_count": 72,
      "outputs": [
        {
          "output_type": "stream",
          "name": "stdout",
          "text": [
            "Number of images 30\n"
          ]
        }
      ]
    },
    {
      "cell_type": "code",
      "source": [
        "##preview the average imagery\n",
        "img=era5_2mt.mosaic()  #.clip(aoi)\n",
        "print(img.getInfo())\n",
        "from IPython.display import Image\n",
        "#Image(url=img.visualize().getThumbUrl())\n",
        "print(\"Global Temperature Jun2020 monthly avg (K)\")\n",
        "Image(url = img.updateMask(img.gt(0))\n",
        "  .getThumbURL({'min':270, 'max': 320, 'dimensions': 512,\n",
        "                'palette': ['006633', 'E5FFCC', '662A00', 'D8D8D8', 'F5F5F5']}))"
      ],
      "metadata": {
        "colab": {
          "base_uri": "https://localhost:8080/",
          "height": 312
        },
        "id": "uG6srK8id4oh",
        "outputId": "1a487c4c-2d15-45fd-dc7e-bf7ce7e1effc"
      },
      "execution_count": 76,
      "outputs": [
        {
          "output_type": "stream",
          "name": "stdout",
          "text": [
            "{'type': 'Image', 'bands': [{'id': 'mean_2m_air_temperature', 'data_type': {'type': 'PixelType', 'precision': 'float'}, 'crs': 'EPSG:4326', 'crs_transform': [1, 0, 0, 0, 1, 0]}]}\n",
            "Global Temperature Jun2020 monthly avg (K)\n"
          ]
        },
        {
          "output_type": "execute_result",
          "data": {
            "text/html": [
              "<img src=\"https://earthengine.googleapis.com/v1alpha/projects/earthengine-legacy/thumbnails/5792c71c68a5d4c4979b3625221b3b96-76f37253074c9f54e976d9040e6d7d8d:getPixels\"/>"
            ],
            "text/plain": [
              "<IPython.core.display.Image object>"
            ]
          },
          "metadata": {},
          "execution_count": 76
        }
      ]
    },
    {
      "cell_type": "code",
      "source": [
        "## export to imagery to Google Cloud Platform (GCP) buckets \n",
        "export_config = {\n",
        "    'image': img,\n",
        "    'region': aoi,\n",
        "    'crs': 'EPSG:4326',\n",
        "    'scale': 100000,    \n",
        "    'fileFormat': 'GeoTIFF',\n",
        "    'fileNamePrefix': 'ERA5_2mt',\n",
        "    'bucket':   'AlgaeDrive',  \n",
        "    'maxPixels':1e10,\n",
        "    'description': 'ERA5 climate data download: ER5 mean_2m_air_temperature'\n",
        "}\n",
        "task=ee.batch.Export.image.toCloudStorage(**export_config)\n",
        "#task=ee.batch.Export.image.toDrive(**export_config)\n",
        "task.start()\n",
        "import time\n",
        "time.sleep(10)\n",
        "print(task.status())"
      ],
      "metadata": {
        "colab": {
          "base_uri": "https://localhost:8080/"
        },
        "id": "Hax0WZmBeOgP",
        "outputId": "f32746fb-1d12-4c5a-e92f-afc03fcf4391"
      },
      "execution_count": 6,
      "outputs": [
        {
          "output_type": "stream",
          "name": "stdout",
          "text": [
            "{'state': 'READY', 'description': 'ERA5 climate data download: ER5 mean_2m_air_temperature', 'creation_timestamp_ms': 1680028182464, 'update_timestamp_ms': 1680028182464, 'start_timestamp_ms': 0, 'task_type': 'EXPORT_IMAGE', 'id': 'UQFQZPCG5XE5SKJFP2QS4TKZ', 'name': 'projects/earthengine-legacy/operations/UQFQZPCG5XE5SKJFP2QS4TKZ'}\n"
          ]
        }
      ]
    },
    {
      "cell_type": "code",
      "source": [
        "##iterate all the image to export\n",
        "img_list = era5_2mt.toList(era5_2mt.size())\n",
        "nImages = img_list.size().getInfo()\n",
        "for i in range(nImages):\n",
        "\timg=ee.Image(img_list.get(i)).clip(aoi)\n",
        "\tproduct_id=img.get('PRODUCT_ID').getInfo()\n",
        "\texport_config = {\n",
        "\t\t'image': img.float(),\n",
        "\t\t'region': aoi_clip,\n",
        "\t\t'crs': f'EPSG:{crs_epsg}',\n",
        "\t\t'scale': 300,    #default in 300 pixels of OLCI\n",
        "\t\t'fileFormat': 'GeoTIFF',\n",
        "\t\t'fileNamePrefix': f'mali_test/{product_id}',\n",
        "\t\t'bucket':   f'mali_test',  \n",
        "\t\t'maxPixels':1e10,\n",
        "\t\t'description': 'test'\n",
        "\t}"
      ],
      "metadata": {
        "id": "MSz8rVCRebWb"
      },
      "execution_count": null,
      "outputs": []
    },
    {
      "cell_type": "code",
      "source": [
        "img = era5_2mt.first().clip(aoi)\n",
        "#print(img.get('bands').getInfo())\n",
        "#img.get('id').getInfo()\n",
        "img.getInfo()"
      ],
      "metadata": {
        "colab": {
          "base_uri": "https://localhost:8080/"
        },
        "id": "rKvjMngAfYIT",
        "outputId": "9ee5c5dc-b569-49ee-f32d-a2ca2d6a5ea0"
      },
      "execution_count": 36,
      "outputs": [
        {
          "output_type": "execute_result",
          "data": {
            "text/plain": [
              "{'type': 'Image',\n",
              " 'bands': [{'id': 'mean_2m_air_temperature',\n",
              "   'data_type': {'type': 'PixelType', 'precision': 'float'},\n",
              "   'dimensions': [9, 5],\n",
              "   'origin': [337, 160],\n",
              "   'crs': 'EPSG:4326',\n",
              "   'crs_transform': [0.25, 0, -180, 0, -0.25, 90]}],\n",
              " 'version': 1578495016371452,\n",
              " 'id': 'ECMWF/ERA5/DAILY/20160901',\n",
              " 'properties': {'system:footprint': {'type': 'Polygon',\n",
              "   'coordinates': [[[-95.4, 48.88],\n",
              "     [-93.75, 48.88],\n",
              "     [-93.75, 49.77],\n",
              "     [-95.4, 49.77],\n",
              "     [-95.4, 48.88]]]},\n",
              "  'system:time_start': 1472688000000,\n",
              "  'month': 9,\n",
              "  'year': 2016,\n",
              "  'system:time_end': 1472774400000,\n",
              "  'system:asset_size': 36675608,\n",
              "  'day': 1,\n",
              "  'system:index': '20160901'}}"
            ]
          },
          "metadata": {},
          "execution_count": 36
        }
      ]
    },
    {
      "cell_type": "code",
      "source": [
        "img_list = era5_2mt.toList(era5_2mt.size())\n",
        "nImages = img_list.size().getInfo()\n",
        "for i in range(20):\n",
        "  img = ee.Image(img_list.get(i))\n",
        "  #img=ee.Image(era5_2mt.get(0)).clip(aoi)\n",
        "  print(img.get('PRODUCT_ID').getInfo())"
      ],
      "metadata": {
        "colab": {
          "base_uri": "https://localhost:8080/"
        },
        "id": "4DJSzZ_tf504",
        "outputId": "69133e28-88f8-4d05-d392-2a3c7caf55c8"
      },
      "execution_count": 19,
      "outputs": [
        {
          "output_type": "stream",
          "name": "stdout",
          "text": [
            "None\n",
            "None\n",
            "None\n",
            "None\n",
            "None\n",
            "None\n",
            "None\n",
            "None\n",
            "None\n",
            "None\n",
            "None\n",
            "None\n",
            "None\n",
            "None\n",
            "None\n",
            "None\n",
            "None\n",
            "None\n",
            "None\n",
            "None\n"
          ]
        }
      ]
    },
    {
      "cell_type": "code",
      "source": [
        "# Print the elevation of Mount Everest.\n",
        "dem = ee.Image('USGS/SRTMGL1_003')\n",
        "xy = ee.Geometry.Point([86.9250, 27.9881])\n",
        "elev = dem.sample(xy, 30).first().get('elevation').getInfo()\n",
        "print('Mount Everest elevation (m):', elev)"
      ],
      "metadata": {
        "id": "I7XlTPowpq-i",
        "outputId": "1aff70f0-d788-4923-e724-cf2210a64b42",
        "colab": {
          "base_uri": "https://localhost:8080/"
        }
      },
      "execution_count": 48,
      "outputs": [
        {
          "output_type": "stream",
          "name": "stdout",
          "text": [
            "Mount Everest elevation (m): 8729\n"
          ]
        }
      ]
    },
    {
      "cell_type": "code",
      "source": [
        "# Import the Image function from the IPython.display module.\n",
        "from IPython.display import Image\n",
        "\n",
        "# Display a thumbnail of global elevation.\n",
        "Image(url = dem.updateMask(dem.gt(0))\n",
        "  .getThumbURL({'min': 0, 'max': 4000, 'dimensions': 512,\n",
        "                'palette': ['006633', 'E5FFCC', '662A00', 'D8D8D8', 'F5F5F5']}))"
      ],
      "metadata": {
        "id": "h3XaeiJUprZu",
        "outputId": "da1cad15-036d-44f3-aef3-6be200f27716",
        "colab": {
          "base_uri": "https://localhost:8080/",
          "height": 277
        }
      },
      "execution_count": 49,
      "outputs": [
        {
          "output_type": "execute_result",
          "data": {
            "text/html": [
              "<img src=\"https://earthengine.googleapis.com/v1alpha/projects/earthengine-legacy/thumbnails/df5c3239c03299d4153fb8cb9563623c-0c4b914007241dfe9053f621165bc424:getPixels\"/>"
            ],
            "text/plain": [
              "<IPython.core.display.Image object>"
            ]
          },
          "metadata": {},
          "execution_count": 49
        }
      ]
    }
  ]
}