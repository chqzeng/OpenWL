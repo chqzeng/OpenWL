{
  "nbformat": 4,
  "nbformat_minor": 0,
  "metadata": {
    "colab": {
      "provenance": []
    },
    "kernelspec": {
      "name": "python3",
      "display_name": "Python 3"
    },
    "language_info": {
      "name": "python"
    }
  },
  "cells": [
    {
      "cell_type": "markdown",
      "source": [
        "Use continuous geographic, hydrological, climate, and meteorological datasets as input to train neural network(NN) and random forest(RF) models, to determine the major environmentl drivers of algae growth in lakes.\n",
        "Use Google Cloud Platform (GCP) to extract relative data from its Earth Engine Dataset and run further NN models"
      ],
      "metadata": {
        "id": "dqS_PlyedNxv"
      }
    },
    {
      "cell_type": "code",
      "source": [
        "##connect to google earth engine\n",
        "import ee\n",
        "service_account = '429406912917-compute@developer.gserviceaccount.com'\n",
        "credentials = ee.ServiceAccountCredentials(service_account, 'credentials.json')\n",
        "ee.Initialize(credentials)"
      ],
      "metadata": {
        "id": "enIjQIHAcw2S"
      },
      "execution_count": 1,
      "outputs": []
    },
    {
      "cell_type": "code",
      "source": [
        "##prepare a mapping tool\n",
        "import folium\n",
        "def add_ee_layer(self, ee_image_object, vis_params, name):\n",
        "  map_id_dict = ee.Image(ee_image_object).getMapId(vis_params)\n",
        "  folium.raster_layers.TileLayer(\n",
        "      tiles=map_id_dict['tile_fetcher'].url_format,\n",
        "      attr='Map Data &copy; <a href=\"https://earthengine.google.com/\">Google Earth Engine</a>',\n",
        "      name=name,\n",
        "      overlay=True,\n",
        "      control=True\n",
        "  ).add_to(self)\n",
        "\n",
        "folium.Map.add_ee_layer = add_ee_layer"
      ],
      "metadata": {
        "id": "84j_IV0TxVh8"
      },
      "execution_count": 86,
      "outputs": []
    },
    {
      "cell_type": "code",
      "source": [
        "### extract climate data from ECMWF ERA 5\n",
        "##details of dataset: https://developers.google.com/earth-engine/datasets/catalog/ECMWF_ERA5_DAILY#description\n",
        "## https://cds.climate.copernicus.eu/cdsapp#!/software/app-era5-explorer?tab=overview\n",
        "sensor='ECMWF/ERA5/DAILY'\n",
        "start_date,end_date='2020-06-01','2020-07-01'\n",
        "aoi =ee.Geometry.Rectangle(-95.4, 48.88,-93.75, 49.77)\n",
        "era5 = ee.ImageCollection(sensor) \\\n",
        "       .filterBounds(aoi)  \\\n",
        "       .filterDate(ee.Date(start_date), ee.Date(end_date))\n",
        "era5_2mt = era5.select('mean_2m_air_temperature')\n",
        "print('Number of images', era5_2mt.size().getInfo())"
      ],
      "metadata": {
        "colab": {
          "base_uri": "https://localhost:8080/"
        },
        "id": "IpZ6vJuKdtA0",
        "outputId": "451a757b-7acf-4f21-8b35-27436bb271cc"
      },
      "execution_count": 88,
      "outputs": [
        {
          "output_type": "stream",
          "name": "stdout",
          "text": [
            "Number of images 30\n"
          ]
        }
      ]
    },
    {
      "cell_type": "code",
      "source": [
        "##preview the average imagery\n",
        "avgT=era5_2mt.mosaic()  #.clip(aoi)\n",
        "#print(img.getInfo())\n",
        "#Image(url=img.visualize().getThumbUrl())\n",
        "##result = ee.Image.expression('(slope * aspect) / 255', {'slope': slope,'aspect': aspect})\n",
        "\n",
        "#from IPython.display import Image\n",
        "avgT=avgT.add(-273.15)  #kelvin to Celsius \n",
        "#print(\"Global Temperature Jun2020 monthly avg (K)\")\n",
        "#Image(url =avgT.updateMask(img.gt(-30))\n",
        "#  .getThumbURL({'min':-30, 'max': 40, 'dimensions': 512,\n",
        "#                'palette': ['006633', 'E5FFCC', '662A00', 'D8D8D8', 'F5F5F5']}))\n",
        "\n",
        "vis_params = {\n",
        "  'min': -30,\n",
        "  'max': 40,\n",
        "  'palette': ['blue', 'green', 'red']\n",
        "}\n",
        "center = aoi.centroid()\n",
        "map = folium.Map(location=[center.coordinates().get(1).getInfo(),center.coordinates().get(0).getInfo()], zoom_start=5)\n",
        "#map = folium.Map(location=[48.88,-95.4], zoom_start=10)\n",
        "# Add the image layer to the map and display it.\n",
        "map.add_ee_layer(avgT, vis_params, 'Avg Temp (c)')\n",
        "map.add_child(folium.LayerControl())\n",
        "display(map)"
      ],
      "metadata": {
        "colab": {
          "base_uri": "https://localhost:8080/",
          "height": 915
        },
        "id": "uG6srK8id4oh",
        "outputId": "a6080d07-2cfb-4bc7-91e8-bc07f753713d"
      },
      "execution_count": 95,
      "outputs": [
        {
          "output_type": "display_data",
          "data": {
            "text/plain": [
              "<folium.folium.Map at 0x7fde6930e280>"
            ],
            "text/html": [
              "<div style=\"width:100%;\"><div style=\"position:relative;width:100%;height:0;padding-bottom:60%;\"><span style=\"color:#565656\">Make this Notebook Trusted to load map: File -> Trust Notebook</span><iframe srcdoc=\"&lt;!DOCTYPE html&gt;\n",
              "&lt;html&gt;\n",
              "&lt;head&gt;\n",
              "    \n",
              "    &lt;meta http-equiv=&quot;content-type&quot; content=&quot;text/html; charset=UTF-8&quot; /&gt;\n",
              "    \n",
              "        &lt;script&gt;\n",
              "            L_NO_TOUCH = false;\n",
              "            L_DISABLE_3D = false;\n",
              "        &lt;/script&gt;\n",
              "    \n",
              "    &lt;style&gt;html, body {width: 100%;height: 100%;margin: 0;padding: 0;}&lt;/style&gt;\n",
              "    &lt;style&gt;#map {position:absolute;top:0;bottom:0;right:0;left:0;}&lt;/style&gt;\n",
              "    &lt;script src=&quot;https://cdn.jsdelivr.net/npm/leaflet@1.9.3/dist/leaflet.js&quot;&gt;&lt;/script&gt;\n",
              "    &lt;script src=&quot;https://code.jquery.com/jquery-1.12.4.min.js&quot;&gt;&lt;/script&gt;\n",
              "    &lt;script src=&quot;https://cdn.jsdelivr.net/npm/bootstrap@5.2.2/dist/js/bootstrap.bundle.min.js&quot;&gt;&lt;/script&gt;\n",
              "    &lt;script src=&quot;https://cdnjs.cloudflare.com/ajax/libs/Leaflet.awesome-markers/2.0.2/leaflet.awesome-markers.js&quot;&gt;&lt;/script&gt;\n",
              "    &lt;link rel=&quot;stylesheet&quot; href=&quot;https://cdn.jsdelivr.net/npm/leaflet@1.9.3/dist/leaflet.css&quot;/&gt;\n",
              "    &lt;link rel=&quot;stylesheet&quot; href=&quot;https://cdn.jsdelivr.net/npm/bootstrap@5.2.2/dist/css/bootstrap.min.css&quot;/&gt;\n",
              "    &lt;link rel=&quot;stylesheet&quot; href=&quot;https://netdna.bootstrapcdn.com/bootstrap/3.0.0/css/bootstrap.min.css&quot;/&gt;\n",
              "    &lt;link rel=&quot;stylesheet&quot; href=&quot;https://cdn.jsdelivr.net/npm/@fortawesome/fontawesome-free@6.2.0/css/all.min.css&quot;/&gt;\n",
              "    &lt;link rel=&quot;stylesheet&quot; href=&quot;https://cdnjs.cloudflare.com/ajax/libs/Leaflet.awesome-markers/2.0.2/leaflet.awesome-markers.css&quot;/&gt;\n",
              "    &lt;link rel=&quot;stylesheet&quot; href=&quot;https://cdn.jsdelivr.net/gh/python-visualization/folium/folium/templates/leaflet.awesome.rotate.min.css&quot;/&gt;\n",
              "    \n",
              "            &lt;meta name=&quot;viewport&quot; content=&quot;width=device-width,\n",
              "                initial-scale=1.0, maximum-scale=1.0, user-scalable=no&quot; /&gt;\n",
              "            &lt;style&gt;\n",
              "                #map_ca692714b7091ff92c41223363493329 {\n",
              "                    position: relative;\n",
              "                    width: 100.0%;\n",
              "                    height: 100.0%;\n",
              "                    left: 0.0%;\n",
              "                    top: 0.0%;\n",
              "                }\n",
              "                .leaflet-container { font-size: 1rem; }\n",
              "            &lt;/style&gt;\n",
              "        \n",
              "&lt;/head&gt;\n",
              "&lt;body&gt;\n",
              "    \n",
              "    \n",
              "            &lt;div class=&quot;folium-map&quot; id=&quot;map_ca692714b7091ff92c41223363493329&quot; &gt;&lt;/div&gt;\n",
              "        \n",
              "&lt;/body&gt;\n",
              "&lt;script&gt;\n",
              "    \n",
              "    \n",
              "            var map_ca692714b7091ff92c41223363493329 = L.map(\n",
              "                &quot;map_ca692714b7091ff92c41223363493329&quot;,\n",
              "                {\n",
              "                    center: [49.32659520159571, -94.5750000000001],\n",
              "                    crs: L.CRS.EPSG3857,\n",
              "                    zoom: 5,\n",
              "                    zoomControl: true,\n",
              "                    preferCanvas: false,\n",
              "                }\n",
              "            );\n",
              "\n",
              "            \n",
              "\n",
              "        \n",
              "    \n",
              "            var tile_layer_12c92822f4cc039cfb6d01eaf500555e = L.tileLayer(\n",
              "                &quot;https://{s}.tile.openstreetmap.org/{z}/{x}/{y}.png&quot;,\n",
              "                {&quot;attribution&quot;: &quot;Data by \\u0026copy; \\u003ca target=\\&quot;_blank\\&quot; href=\\&quot;http://openstreetmap.org\\&quot;\\u003eOpenStreetMap\\u003c/a\\u003e, under \\u003ca target=\\&quot;_blank\\&quot; href=\\&quot;http://www.openstreetmap.org/copyright\\&quot;\\u003eODbL\\u003c/a\\u003e.&quot;, &quot;detectRetina&quot;: false, &quot;maxNativeZoom&quot;: 18, &quot;maxZoom&quot;: 18, &quot;minZoom&quot;: 0, &quot;noWrap&quot;: false, &quot;opacity&quot;: 1, &quot;subdomains&quot;: &quot;abc&quot;, &quot;tms&quot;: false}\n",
              "            ).addTo(map_ca692714b7091ff92c41223363493329);\n",
              "        \n",
              "    \n",
              "            var tile_layer_e50fb7b3886e59a5c5d56f6b0354c254 = L.tileLayer(\n",
              "                &quot;https://earthengine.googleapis.com/v1alpha/projects/earthengine-legacy/maps/fd43ed3f88a1e877357943541c60e845-6de3617ff6ddcaed2ab75371167b7557/tiles/{z}/{x}/{y}&quot;,\n",
              "                {&quot;attribution&quot;: &quot;Map Data \\u0026copy; \\u003ca href=\\&quot;https://earthengine.google.com/\\&quot;\\u003eGoogle Earth Engine\\u003c/a\\u003e&quot;, &quot;detectRetina&quot;: false, &quot;maxNativeZoom&quot;: 18, &quot;maxZoom&quot;: 18, &quot;minZoom&quot;: 0, &quot;noWrap&quot;: false, &quot;opacity&quot;: 1, &quot;subdomains&quot;: &quot;abc&quot;, &quot;tms&quot;: false}\n",
              "            ).addTo(map_ca692714b7091ff92c41223363493329);\n",
              "        \n",
              "    \n",
              "            var layer_control_18081acd5b0a4776bc2fcb93dd8a329d = {\n",
              "                base_layers : {\n",
              "                    &quot;openstreetmap&quot; : tile_layer_12c92822f4cc039cfb6d01eaf500555e,\n",
              "                },\n",
              "                overlays :  {\n",
              "                    &quot;Avg Temp (c)&quot; : tile_layer_e50fb7b3886e59a5c5d56f6b0354c254,\n",
              "                },\n",
              "            };\n",
              "            L.control.layers(\n",
              "                layer_control_18081acd5b0a4776bc2fcb93dd8a329d.base_layers,\n",
              "                layer_control_18081acd5b0a4776bc2fcb93dd8a329d.overlays,\n",
              "                {&quot;autoZIndex&quot;: true, &quot;collapsed&quot;: true, &quot;position&quot;: &quot;topright&quot;}\n",
              "            ).addTo(map_ca692714b7091ff92c41223363493329);\n",
              "        \n",
              "&lt;/script&gt;\n",
              "&lt;/html&gt;\" style=\"position:absolute;width:100%;height:100%;left:0;top:0;border:none !important;\" allowfullscreen webkitallowfullscreen mozallowfullscreen></iframe></div></div>"
            ]
          },
          "metadata": {}
        }
      ]
    },
    {
      "cell_type": "code",
      "source": [],
      "metadata": {
        "id": "QvlMSRsUwg2g",
        "outputId": "1f3d87c6-1c1a-4110-9c43-63f44fb97f39",
        "colab": {
          "base_uri": "https://localhost:8080/"
        }
      },
      "execution_count": 93,
      "outputs": [
        {
          "output_type": "execute_result",
          "data": {
            "text/plain": [
              "-94.5750000000001"
            ]
          },
          "metadata": {},
          "execution_count": 93
        }
      ]
    },
    {
      "cell_type": "code",
      "source": [
        "center.coordinates().getInfo()"
      ],
      "metadata": {
        "id": "nDwLdNeivzmG",
        "outputId": "89500b64-8060-48fa-e4c2-61f61fe15576",
        "colab": {
          "base_uri": "https://localhost:8080/"
        }
      },
      "execution_count": 81,
      "outputs": [
        {
          "output_type": "execute_result",
          "data": {
            "text/plain": [
              "[-94.5750000000001, 49.32659520159571]"
            ]
          },
          "metadata": {},
          "execution_count": 81
        }
      ]
    },
    {
      "cell_type": "code",
      "source": [
        "## export to imagery to Google Cloud Platform (GCP) buckets \n",
        "export_config = {\n",
        "    'image': img,\n",
        "    'region': aoi,\n",
        "    'crs': 'EPSG:4326',\n",
        "    'scale': 100000,    \n",
        "    'fileFormat': 'GeoTIFF',\n",
        "    'fileNamePrefix': 'ERA5_2mt',\n",
        "    'bucket':   'AlgaeDrive',  \n",
        "    'maxPixels':1e10,\n",
        "    'description': 'ERA5 climate data download: ER5 mean_2m_air_temperature'\n",
        "}\n",
        "task=ee.batch.Export.image.toCloudStorage(**export_config)\n",
        "#task=ee.batch.Export.image.toDrive(**export_config)\n",
        "task.start()\n",
        "import time\n",
        "time.sleep(10)\n",
        "print(task.status())"
      ],
      "metadata": {
        "colab": {
          "base_uri": "https://localhost:8080/"
        },
        "id": "Hax0WZmBeOgP",
        "outputId": "f32746fb-1d12-4c5a-e92f-afc03fcf4391"
      },
      "execution_count": 6,
      "outputs": [
        {
          "output_type": "stream",
          "name": "stdout",
          "text": [
            "{'state': 'READY', 'description': 'ERA5 climate data download: ER5 mean_2m_air_temperature', 'creation_timestamp_ms': 1680028182464, 'update_timestamp_ms': 1680028182464, 'start_timestamp_ms': 0, 'task_type': 'EXPORT_IMAGE', 'id': 'UQFQZPCG5XE5SKJFP2QS4TKZ', 'name': 'projects/earthengine-legacy/operations/UQFQZPCG5XE5SKJFP2QS4TKZ'}\n"
          ]
        }
      ]
    },
    {
      "cell_type": "code",
      "source": [
        "##iterate all the image to export\n",
        "img_list = era5_2mt.toList(era5_2mt.size())\n",
        "nImages = img_list.size().getInfo()\n",
        "for i in range(nImages):\n",
        "\timg=ee.Image(img_list.get(i)).clip(aoi)\n",
        "\tproduct_id=img.get('PRODUCT_ID').getInfo()\n",
        "\texport_config = {\n",
        "\t\t'image': img.float(),\n",
        "\t\t'region': aoi_clip,\n",
        "\t\t'crs': f'EPSG:{crs_epsg}',\n",
        "\t\t'scale': 300,    #default in 300 pixels of OLCI\n",
        "\t\t'fileFormat': 'GeoTIFF',\n",
        "\t\t'fileNamePrefix': f'mali_test/{product_id}',\n",
        "\t\t'bucket':   f'mali_test',  \n",
        "\t\t'maxPixels':1e10,\n",
        "\t\t'description': 'test'\n",
        "\t}"
      ],
      "metadata": {
        "id": "MSz8rVCRebWb"
      },
      "execution_count": null,
      "outputs": []
    },
    {
      "cell_type": "code",
      "source": [
        "img = era5_2mt.first().clip(aoi)\n",
        "#print(img.get('bands').getInfo())\n",
        "#img.get('id').getInfo()\n",
        "img.getInfo()"
      ],
      "metadata": {
        "colab": {
          "base_uri": "https://localhost:8080/"
        },
        "id": "rKvjMngAfYIT",
        "outputId": "9ee5c5dc-b569-49ee-f32d-a2ca2d6a5ea0"
      },
      "execution_count": 36,
      "outputs": [
        {
          "output_type": "execute_result",
          "data": {
            "text/plain": [
              "{'type': 'Image',\n",
              " 'bands': [{'id': 'mean_2m_air_temperature',\n",
              "   'data_type': {'type': 'PixelType', 'precision': 'float'},\n",
              "   'dimensions': [9, 5],\n",
              "   'origin': [337, 160],\n",
              "   'crs': 'EPSG:4326',\n",
              "   'crs_transform': [0.25, 0, -180, 0, -0.25, 90]}],\n",
              " 'version': 1578495016371452,\n",
              " 'id': 'ECMWF/ERA5/DAILY/20160901',\n",
              " 'properties': {'system:footprint': {'type': 'Polygon',\n",
              "   'coordinates': [[[-95.4, 48.88],\n",
              "     [-93.75, 48.88],\n",
              "     [-93.75, 49.77],\n",
              "     [-95.4, 49.77],\n",
              "     [-95.4, 48.88]]]},\n",
              "  'system:time_start': 1472688000000,\n",
              "  'month': 9,\n",
              "  'year': 2016,\n",
              "  'system:time_end': 1472774400000,\n",
              "  'system:asset_size': 36675608,\n",
              "  'day': 1,\n",
              "  'system:index': '20160901'}}"
            ]
          },
          "metadata": {},
          "execution_count": 36
        }
      ]
    },
    {
      "cell_type": "code",
      "source": [
        "img_list = era5_2mt.toList(era5_2mt.size())\n",
        "nImages = img_list.size().getInfo()\n",
        "for i in range(20):\n",
        "  img = ee.Image(img_list.get(i))\n",
        "  #img=ee.Image(era5_2mt.get(0)).clip(aoi)\n",
        "  print(img.get('PRODUCT_ID').getInfo())"
      ],
      "metadata": {
        "colab": {
          "base_uri": "https://localhost:8080/"
        },
        "id": "4DJSzZ_tf504",
        "outputId": "69133e28-88f8-4d05-d392-2a3c7caf55c8"
      },
      "execution_count": 19,
      "outputs": [
        {
          "output_type": "stream",
          "name": "stdout",
          "text": [
            "None\n",
            "None\n",
            "None\n",
            "None\n",
            "None\n",
            "None\n",
            "None\n",
            "None\n",
            "None\n",
            "None\n",
            "None\n",
            "None\n",
            "None\n",
            "None\n",
            "None\n",
            "None\n",
            "None\n",
            "None\n",
            "None\n",
            "None\n"
          ]
        }
      ]
    },
    {
      "cell_type": "code",
      "source": [
        "# Print the elevation of Mount Everest.\n",
        "dem = ee.Image('USGS/SRTMGL1_003')\n",
        "xy = ee.Geometry.Point([86.9250, 27.9881])\n",
        "elev = dem.sample(xy, 30).first().get('elevation').getInfo()\n",
        "print('Mount Everest elevation (m):', elev)"
      ],
      "metadata": {
        "colab": {
          "base_uri": "https://localhost:8080/"
        },
        "id": "I7XlTPowpq-i",
        "outputId": "1aff70f0-d788-4923-e724-cf2210a64b42"
      },
      "execution_count": 48,
      "outputs": [
        {
          "output_type": "stream",
          "name": "stdout",
          "text": [
            "Mount Everest elevation (m): 8729\n"
          ]
        }
      ]
    },
    {
      "cell_type": "code",
      "source": [
        "# Import the Image function from the IPython.display module.\n",
        "from IPython.display import Image\n",
        "\n",
        "# Display a thumbnail of global elevation.\n",
        "Image(url = dem.updateMask(dem.gt(0))\n",
        "  .getThumbURL({'min': 0, 'max': 4000, 'dimensions': 512,\n",
        "                'palette': ['006633', 'E5FFCC', '662A00', 'D8D8D8', 'F5F5F5']}))"
      ],
      "metadata": {
        "colab": {
          "base_uri": "https://localhost:8080/",
          "height": 277
        },
        "id": "h3XaeiJUprZu",
        "outputId": "da1cad15-036d-44f3-aef3-6be200f27716"
      },
      "execution_count": 49,
      "outputs": [
        {
          "output_type": "execute_result",
          "data": {
            "text/html": [
              "<img src=\"https://earthengine.googleapis.com/v1alpha/projects/earthengine-legacy/thumbnails/df5c3239c03299d4153fb8cb9563623c-0c4b914007241dfe9053f621165bc424:getPixels\"/>"
            ],
            "text/plain": [
              "<IPython.core.display.Image object>"
            ]
          },
          "metadata": {},
          "execution_count": 49
        }
      ]
    }
  ]
}