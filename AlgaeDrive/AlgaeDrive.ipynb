## Use continuous geographic, hydrological, climate, and meteorological datasets as input to train neural network(NN) and random forest(RF) models, to determine the major environmentl drivers of algae growth in lakes.
## Use Google Cloud Platform (GCP) to extract relative data from its Earth Engine Dataset and run further NN models
